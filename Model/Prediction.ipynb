{
 "cells": [
  {
   "cell_type": "code",
   "execution_count": 5,
   "metadata": {},
   "outputs": [],
   "source": [
    "import torch\n",
    "import torch.nn as nn\n",
    "import numpy as np\n",
    "import pandas as pd\n",
    "import matplotlib.pyplot as plt\n",
    "from sklearn.preprocessing import MinMaxScaler\n",
    "\n",
    "%matplotlib inline\n"
   ]
  },
  {
   "cell_type": "code",
   "execution_count": 6,
   "metadata": {},
   "outputs": [
    {
     "name": "stdout",
     "output_type": "stream",
     "text": [
      "(2, 31)\n",
      "torch.Size([2, 30])\n",
      "torch.Size([30, 2])\n"
     ]
    }
   ],
   "source": [
    "# 读取 TXT 文件\n",
    "file_path = r'..\\MoviesData\\Code\\BoxingData.txt'\n",
    "data = np.loadtxt(file_path)\n",
    "\n",
    "print(data.shape)\n",
    "\n",
    "#去掉电影名\n",
    "tensor_data = data[:,1:]\n",
    "tensor_data = torch.from_numpy(tensor_data).float()\n",
    "\n",
    "print(tensor_data.shape)\n",
    "#（时间步，批量大小）\n",
    "tensor_data = tensor_data.T\n",
    "print(tensor_data.shape)"
   ]
  },
  {
   "cell_type": "code",
   "execution_count": 7,
   "metadata": {},
   "outputs": [
    {
     "name": "stdout",
     "output_type": "stream",
     "text": [
      "torch.Size([20, 2])\n",
      "torch.Size([10, 2])\n"
     ]
    }
   ],
   "source": [
    "test_data_size = 10\n",
    "\n",
    "train_data = tensor_data[:-test_data_size]\n",
    "test_data = tensor_data[-test_data_size:]\n",
    "print(train_data.shape)\n",
    "print(test_data.shape)"
   ]
  },
  {
   "cell_type": "code",
   "execution_count": 9,
   "metadata": {},
   "outputs": [
    {
     "name": "stdout",
     "output_type": "stream",
     "text": [
      "[[-1.         -1.        ]\n",
      " [-0.9877029  -0.9877029 ]\n",
      " [-0.98123105 -0.98123105]\n",
      " [ 1.          1.        ]\n",
      " [-0.9877029  -0.9877029 ]\n",
      " [-0.9877029  -0.9877029 ]\n",
      " [-0.9877029  -0.9877029 ]\n",
      " [-0.9877029  -0.9877029 ]\n",
      " [-0.9877029  -0.9877029 ]\n",
      " [-0.9877029  -0.9877029 ]\n",
      " [-1.         -1.        ]\n",
      " [-0.9877029  -0.9877029 ]\n",
      " [-0.98123105 -0.98123105]\n",
      " [ 1.          1.        ]\n",
      " [-0.9877029  -0.9877029 ]\n",
      " [-0.9877029  -0.9877029 ]\n",
      " [-0.9877029  -0.9877029 ]\n",
      " [-0.9877029  -0.9877029 ]\n",
      " [-0.9877029  -0.9877029 ]\n",
      " [-0.9877029  -0.9877029 ]]\n"
     ]
    }
   ],
   "source": [
    "scaler = MinMaxScaler(feature_range=(-1, 1))\n",
    "train_data_normalized = scaler.fit_transform(train_data)\n",
    "print(train_data_normalized)"
   ]
  },
  {
   "cell_type": "code",
   "execution_count": 10,
   "metadata": {},
   "outputs": [],
   "source": [
    "train_window = 7"
   ]
  },
  {
   "cell_type": "code",
   "execution_count": null,
   "metadata": {},
   "outputs": [],
   "source": [
    "def create_inout_sequences(input_data, tw):\n",
    "    inout_seq = []\n",
    "    L = len(input_data)\n",
    "    for i in range(L-tw):\n",
    "        train_seq = input_data[i:i+tw]\n",
    "        train_label = input_data[i+tw:i+tw+1]\n",
    "        inout_seq.append((train_seq ,train_label))\n",
    "    return inout_seq"
   ]
  }
 ],
 "metadata": {
  "kernelspec": {
   "display_name": "pytorch",
   "language": "python",
   "name": "python3"
  },
  "language_info": {
   "codemirror_mode": {
    "name": "ipython",
    "version": 3
   },
   "file_extension": ".py",
   "mimetype": "text/x-python",
   "name": "python",
   "nbconvert_exporter": "python",
   "pygments_lexer": "ipython3",
   "version": "3.11.8"
  }
 },
 "nbformat": 4,
 "nbformat_minor": 2
}
